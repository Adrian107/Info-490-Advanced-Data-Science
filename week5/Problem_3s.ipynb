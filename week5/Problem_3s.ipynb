{
 "cells": [
  {
   "cell_type": "markdown",
   "metadata": {
    "deletable": false,
    "editable": false,
    "nbgrader": {
     "checksum": "dd0da5adf1f7be672a7a4e82c2aa2851",
     "grade": false,
     "grade_id": "header",
     "locked": true,
     "schema_version": 1,
     "solution": false
    }
   },
   "source": [
    "# Week 5 Problem 3\n",
    "\n",
    "A few things you should keep in mind when working on assignments:\n",
    "\n",
    "1. Make sure you fill in any place that says `YOUR CODE HERE`. Do not write your answer in anywhere else other than where it says `YOUR CODE HERE`. Anything you write anywhere else will be removed or overwritten by the autograder.\n",
    "\n",
    "2. Before you submit your assignment, make sure everything runs as expected. Go to menubar, select *Kernel*, and restart the kernel and run all cells (*Restart & Run all*).\n",
    "\n",
    "3. Do not change the title (i.e. file name) of this notebook.\n",
    "\n",
    "4. Make sure that you save your work (in the menubar, select *File* → *Save and CheckPoint*)\n",
    "\n",
    "5. When you are ready to submit your assignment, go to *Dashboard* → *Assignments* and click the *Submit* button. Your work is not submitted until you click *Submit*.\n",
    "\n",
    "6. You are allowed to submit an assignment multiple times, but only the most recent submission will be graded.\n",
    "\n",
    "7. **If your code does not pass the unit tests, it will not pass the autograder.**"
   ]
  },
  {
   "cell_type": "markdown",
   "metadata": {
    "deletable": false,
    "editable": false,
    "nbgrader": {
     "checksum": "b7eec45e3a5c0a340933c2afb6698ba3",
     "grade": false,
     "grade_id": "due_date",
     "locked": true,
     "schema_version": 1,
     "solution": false
    }
   },
   "source": [
    "# Due Date: 6 PM, February 19, 2018"
   ]
  },
  {
   "cell_type": "code",
   "execution_count": 60,
   "metadata": {
    "collapsed": true,
    "deletable": false,
    "editable": false,
    "nbgrader": {
     "checksum": "4976ede5a68844e8b7804d0c9d1fbcd9",
     "grade": false,
     "grade_id": "import_nose",
     "locked": true,
     "schema_version": 1,
     "solution": false
    }
   },
   "outputs": [],
   "source": [
    "% matplotlib inline\n",
    "\n",
    "import numpy as np\n",
    "import pandas as pd\n",
    "from sklearn.model_selection import train_test_split, GridSearchCV\n",
    "from sklearn.pipeline import make_pipeline\n",
    "from sklearn.metrics import mean_squared_error\n",
    "import matplotlib as mpl\n",
    "import matplotlib.pyplot as plt\n",
    "import seaborn as sns\n",
    "from sklearn.gaussian_process import GaussianProcessClassifier\n",
    "from sklearn.datasets import make_classification\n",
    "from sklearn.metrics import accuracy_score, confusion_matrix\n",
    "from sklearn.gaussian_process.kernels import RBF, DotProduct, ConstantKernel, RationalQuadratic, Matern\n",
    "from nose.tools import assert_equal, assert_in, assert_is_not, assert_is_instance\n",
    "from numpy.testing import assert_array_equal, assert_array_almost_equal\n",
    "from pandas.util.testing import assert_frame_equal, assert_index_equal"
   ]
  },
  {
   "cell_type": "markdown",
   "metadata": {
    "deletable": false,
    "editable": false,
    "nbgrader": {
     "checksum": "b05a8cfd364503b97c5d5d421e14dfde",
     "grade": false,
     "grade_id": "cell-55f5152c9112ef90",
     "locked": true,
     "schema_version": 1,
     "solution": false
    }
   },
   "source": [
    "Let us use _sklearn_ to create a classification dataset for this assignment. We will create a dataset of 300 observations, 4 features and 3 class labels. We will then perform a 80/20 train-test split of the dataset."
   ]
  },
  {
   "cell_type": "code",
   "execution_count": 61,
   "metadata": {
    "deletable": false,
    "editable": false,
    "nbgrader": {
     "checksum": "dae76931e873b531e97048f42342ee66",
     "grade": false,
     "grade_id": "cell-1479489d0ee8112d",
     "locked": true,
     "schema_version": 1,
     "solution": false
    }
   },
   "outputs": [
    {
     "data": {
      "image/png": "[encoded data removed]",
      "text/plain": [
       "<matplotlib.figure.Figure at 0x7fcc1385e048>"
      ]
     },
     "metadata": {},
     "output_type": "display_data"
    }
   ],
   "source": [
    "# Generate the dataset\n",
    "X, y = make_classification(n_samples=300, n_features=4, n_classes=3, n_clusters_per_class=1, random_state=0)\n",
    "\n",
    "# Perform a 80/20  train-test split\n",
    "X_train, X_test, y_train, y_test = train_test_split(X, y, test_size=0.2, random_state=0)\n",
    "\n",
    "# View the dataset\n",
    "df = pd.DataFrame(dict(x=X[:,0], y=X[:,1], label=y))\n",
    "colors = {0: 'red', 1: 'black', 2: 'blue'}\n",
    "fig, ax = plt.subplots()\n",
    "grouped = df.groupby('label')\n",
    "for key, group in grouped:\n",
    "    group.plot(ax=ax, kind='scatter', x='x', y='y', label=key, color=colors[key])\n",
    "plt.show()"
   ]
  },
  {
   "cell_type": "markdown",
   "metadata": {
    "collapsed": true,
    "deletable": false,
    "editable": false,
    "nbgrader": {
     "checksum": "d1eaf6ae4ea0b3d5fe930456ec4cb3b2",
     "grade": false,
     "grade_id": "prob1",
     "locked": true,
     "schema_version": 1,
     "solution": false
    }
   },
   "source": [
    "## Question 1\n",
    "\n",
    "Create a wrapper function called GP_Classifier that fits a <i>sklearn.gaussian_process.GaussianProcessClassifier</i> model to the training set and makes predictions on the test data. Your function should return the fitted model along with the predictions. We have defined a default kernel for your function.\n",
    "\n",
    "Note, set the <i>random_state</i> to be 0 for reproducibility."
   ]
  },
  {
   "cell_type": "code",
   "execution_count": 62,
   "metadata": {
    "collapsed": true,
    "deletable": false,
    "nbgrader": {
     "checksum": "39ed12b84f56e688c2a4fa4e93732ee0",
     "grade": false,
     "grade_id": "prob1_answer",
     "locked": false,
     "schema_version": 1,
     "solution": true
    }
   },
   "outputs": [],
   "source": [
    "def GP_Classifier(X_train, y_train, X_test, random_state=0):\n",
    "    '''    \n",
    "    Parameters\n",
    "    ----------\n",
    "    X_train: A numpy.ndarray\n",
    "    y_train: A numpy.ndarray\n",
    "    X_test: A numpy.ndarray\n",
    "    \n",
    "    Returns\n",
    "    -------\n",
    "    model: A sklearn.gaussian_process.GaussianProcessClassifier\n",
    "    prediction: A numpy.ndarray\n",
    "    '''\n",
    "    # YOUR CODE HERE\n",
    "    gpc = GaussianProcessClassifier(random_state=random_state)\n",
    "    model = gpc.fit(X_train, y_train)\n",
    "    prediction = model.predict(X_test)\n",
    "    \n",
    "    return model, prediction"
   ]
  },
  {
   "cell_type": "code",
   "execution_count": 63,
   "metadata": {
    "collapsed": true,
    "deletable": false,
    "editable": false,
    "nbgrader": {
     "checksum": "790f8e733cdbf5da2068e44918474d27",
     "grade": false,
     "grade_id": "cell-1cfd3f877c3123d2",
     "locked": true,
     "schema_version": 1,
     "solution": false
    }
   },
   "outputs": [],
   "source": [
    "# Test your function\n",
    "model1, prediction1 = GP_Classifier(X_train, y_train, X_test)"
   ]
  },
  {
   "cell_type": "code",
   "execution_count": 64,
   "metadata": {
    "collapsed": true,
    "deletable": false,
    "editable": false,
    "nbgrader": {
     "checksum": "43567787c9b997bc2cdfb9f4ddbbfc33",
     "grade": true,
     "grade_id": "prob1_grade",
     "locked": true,
     "points": 10,
     "schema_version": 1,
     "solution": false
    }
   },
   "outputs": [],
   "source": [
    "assert_equal(isinstance(model1, GaussianProcessClassifier), True)\n",
    "assert_equal(isinstance(prediction1, np.ndarray), True)\n",
    "assert_equal(len(prediction1), 60)\n"
   ]
  },
  {
   "cell_type": "markdown",
   "metadata": {
    "deletable": false,
    "editable": false,
    "nbgrader": {
     "checksum": "e74d14e10f1b7efb1579392cc46bf39e",
     "grade": false,
     "grade_id": "cell-b2fc504d096ffb93",
     "locked": true,
     "schema_version": 1,
     "solution": false
    }
   },
   "source": [
    "From the notebook, recall that the kernel is the primary hyperparameter for the Gaussian Process Classifier. The accuracy score of the default model is approximately 83.3% using the default radial-basis function kernel (_1.0 * RBF(1.0)_). Can we do better with a different kernel?"
   ]
  },
  {
   "cell_type": "code",
   "execution_count": 65,
   "metadata": {
    "deletable": false,
    "editable": false,
    "nbgrader": {
     "checksum": "202039c244b9667ce01ed9637b8390d3",
     "grade": false,
     "grade_id": "cell-34686e111d50a905",
     "locked": true,
     "schema_version": 1,
     "solution": false
    }
   },
   "outputs": [
    {
     "data": {
      "text/plain": [
       "0.83333333333333337"
      ]
     },
     "execution_count": 65,
     "metadata": {},
     "output_type": "execute_result"
    }
   ],
   "source": [
    "# Accuracy score with default RBF kernel\n",
    "accuracy_score(y_test, prediction1)"
   ]
  },
  {
   "cell_type": "markdown",
   "metadata": {
    "collapsed": true,
    "deletable": false,
    "editable": false,
    "nbgrader": {
     "checksum": "d685ea7597f44aed293b96e4fce51c63",
     "grade": false,
     "grade_id": "prob2",
     "locked": true,
     "schema_version": 1,
     "solution": false
    }
   },
   "source": [
    "## Question 2\n",
    "\n",
    " Determine an appropriate kernel which results in an accuracy higher than 83.3% for the Gaussian Process Classifier. The function GP_Classifier_Kernel() should be almost the same as your function in Question 1 except with a defined kernel for your model. Your function should have <i>random_state=0</i> and output the model along with the predictions as before.\n",
    " \n",
    " __Hint__: \n",
    "1. You might want to set `warm_start=True` when defining the GaussianProcessClassifier in order to reduce computation time. \n",
    "2. You do not have to define a complicated kernel function. Try the DotProduct, ConstantKernel, RationalQuadratic, or Matern kernel with the default parameters and see what you get.\n",
    "\n",
    "__Note__: You can achieve 90%+ accuracy but the computation time will take extremely long. Your model does not have to perform that well --- you just need to do better than 83.3% to receive full points. Computational complexity and performance is a common trade-off you will experience in data science."
   ]
  },
  {
   "cell_type": "code",
   "execution_count": 67,
   "metadata": {
    "deletable": false,
    "nbgrader": {
     "checksum": "22f965fc35de185644fe2721e438444d",
     "grade": false,
     "grade_id": "prob2_answer",
     "locked": false,
     "schema_version": 1,
     "solution": true
    }
   },
   "outputs": [],
   "source": [
    "def GP_Classifier_Kernel(X_train, y_train, X_test, random_state=0):\n",
    "    '''    \n",
    "    Parameters\n",
    "    ----------\n",
    "    X_train: A numpy.ndarray\n",
    "    y_train: A numpy.ndarray\n",
    "    X_test: A numpy.ndarray\n",
    "    \n",
    "    Returns\n",
    "    -------\n",
    "    model: A sklearn.gaussian_process.GaussianProcessClassifier\n",
    "    prediction: A numpy.ndarray\n",
    "    '''\n",
    "    # YOUR CODE HERE\n",
    "    gpc = GaussianProcessClassifier(kernel=1*Matern(length_scale=1, nu=1.5), warm_start=True,random_state=random_state)\n",
    "    model = gpc.fit(X_train, y_train)\n",
    "    prediction = model.predict(X_test)\n",
    "    \n",
    "    \n",
    "    return model, prediction"
   ]
  },
  {
   "cell_type": "code",
   "execution_count": 68,
   "metadata": {
    "deletable": false,
    "editable": false,
    "nbgrader": {
     "checksum": "f7092ee430ec967314f18faf529dbf2c",
     "grade": false,
     "grade_id": "cell-e6aac4becdaa9a4f",
     "locked": true,
     "schema_version": 1,
     "solution": false
    }
   },
   "outputs": [
    {
     "data": {
      "text/plain": [
       "0.8666666666666667"
      ]
     },
     "execution_count": 68,
     "metadata": {},
     "output_type": "execute_result"
    }
   ],
   "source": [
    "# Might take a few minutes to run\n",
    "model2, prediction2 = GP_Classifier_Kernel(X_train, y_train, X_test)\n",
    "\n",
    "# Compute accuracy score\n",
    "accuracy_score(y_test, prediction2)"
   ]
  },
  {
   "cell_type": "code",
   "execution_count": 69,
   "metadata": {
    "collapsed": true,
    "deletable": false,
    "editable": false,
    "nbgrader": {
     "checksum": "f5616ab92a70db318cc734089f23c362",
     "grade": true,
     "grade_id": "prob2_grade",
     "locked": true,
     "points": 15,
     "schema_version": 1,
     "solution": false
    }
   },
   "outputs": [],
   "source": [
    "assert_equal(isinstance(model2, GaussianProcessClassifier), True)\n",
    "assert_equal(isinstance(prediction2, np.ndarray), True)\n",
    "assert_equal(model2.kernel is not None, True, msg=\"Make sure you define a kernel.\")\n",
    "assert_equal(accuracy_score(y_test, prediction2) > .833, True, msg=\"Your model accuracy needs to be higher than 83.3%.\")\n"
   ]
  },
  {
   "cell_type": "markdown",
   "metadata": {
    "deletable": false,
    "editable": false,
    "nbgrader": {
     "checksum": "7813cd9459d882c5d1800b8f99c5be76",
     "grade": false,
     "grade_id": "cell-b2dc7fd709bf835f",
     "locked": true,
     "schema_version": 1,
     "solution": false
    }
   },
   "source": [
    "Lets take a look at the confusion matrix for the default GPC model and the one with a kernel."
   ]
  },
  {
   "cell_type": "code",
   "execution_count": 70,
   "metadata": {},
   "outputs": [
    {
     "data": {
      "text/plain": [
       "<matplotlib.text.Text at 0x7fcc13a582e8>"
      ]
     },
     "execution_count": 70,
     "metadata": {},
     "output_type": "execute_result"
    },
    {
     "data": {
      "image/png": "[encoded data removed]",
      "text/plain": [
       "<matplotlib.figure.Figure at 0x7fcc2935c828>"
      ]
     },
     "metadata": {},
     "output_type": "display_data"
    }
   ],
   "source": [
    "confusion = confusion_matrix(y_test, prediction1)\n",
    "confusion2 = confusion_matrix(y_test, prediction2)\n",
    "fig, ax =plt.subplots(1,2)\n",
    "sns.heatmap(confusion, annot=True, ax=ax[0])\n",
    "sns.heatmap(confusion2, annot=True, ax=ax[1])\n",
    "ax[0].set_title('Default Kernel')\n",
    "ax[1].set_title('Your Kernel')"
   ]
  },
  {
   "cell_type": "markdown",
   "metadata": {
    "deletable": false,
    "editable": false,
    "nbgrader": {
     "checksum": "51fd392273621c733a56992ea9802b62",
     "grade": false,
     "grade_id": "cell-f0ce845921a931bc",
     "locked": true,
     "schema_version": 1,
     "solution": false
    }
   },
   "source": [
    "## Question 3\n",
    "\n",
    "![prob3_solution](images/prob3_sol.png)\n",
    "\n",
    "You've already learned that there are other metrics besides accuracy. Create a function plot_confusion() that takes the true label and predicted labels, computes the confusion matrix and plots a heatmap as shown. Note, you do not have to replicate the plot but to pass all of the assertions, you need to do the following:\n",
    "\n",
    "- Make sure your function returns a _matplotlib.axes.Axes_ object.\n",
    "- Set a title for the plot.\n",
    "- Have the class labels on the axes of the plot.\n",
    "\n",
    "**Hint**: You can use the built-in function from sklearn to compute the confusion matrix. It is also easier to use Seaborn to plot the heatmap than matplotlib (since you can just set _annot=True_ to annotate the heatmap)."
   ]
  },
  {
   "cell_type": "code",
   "execution_count": 71,
   "metadata": {
    "collapsed": true,
    "deletable": false,
    "nbgrader": {
     "checksum": "a1b68ee3ff377ec6d7bfb125159442d9",
     "grade": false,
     "grade_id": "prob3_answer",
     "locked": false,
     "schema_version": 1,
     "solution": true
    }
   },
   "outputs": [],
   "source": [
    "def plot_confusion(true_label, prediction):\n",
    "    '''    \n",
    "    Parameters\n",
    "    ----------\n",
    "    model1: A sklearn.gaussian_process.GaussianProcessClassifier\n",
    "    model2: A sklearn.gaussian_process.GaussianProcessClassifier\n",
    "    \n",
    "    Returns\n",
    "    -------\n",
    "    plots: A sklearn.gaussian_process.GaussianProcessClassifier\n",
    "    '''\n",
    "    # YOUR CODE HERE\n",
    "    confusion = confusion_matrix(y_test, prediction1)\n",
    "\n",
    "    fig, ax =plt.subplots(1)\n",
    "    sns.heatmap(confusion, annot=True, ax=ax)\n",
    "\n",
    "    ax.set_title('Matern Kernel Confusion Plot')\n",
    "\n",
    "    return ax"
   ]
  },
  {
   "cell_type": "code",
   "execution_count": 72,
   "metadata": {},
   "outputs": [
    {
     "data": {
      "image/png": "[encoded data removed]",
      "text/plain": [
       "<matplotlib.figure.Figure at 0x7fcc13c4c978>"
      ]
     },
     "metadata": {},
     "output_type": "display_data"
    }
   ],
   "source": [
    "# Plot of the confusion matrix for with your kernel\n",
    "your_model_cm = plot_confusion(y_test, prediction2)"
   ]
  },
  {
   "cell_type": "code",
   "execution_count": 73,
   "metadata": {
    "collapsed": true,
    "deletable": false,
    "editable": false,
    "nbgrader": {
     "checksum": "c3533dfec4c48e15214358375956e665",
     "grade": true,
     "grade_id": "prob3_grade",
     "locked": true,
     "points": 5,
     "schema_version": 1,
     "solution": false
    }
   },
   "outputs": [],
   "source": [
    "assert_is_instance(\n",
    "    your_model_cm, mpl.axes.Axes,\n",
    "    msg=\"Your function should return a matplotlib.axes.Axes object.\"\n",
    ")\n",
    "assert_is_not(\n",
    "    len(your_model_cm.title.get_text()), 0,\n",
    "    msg=\"Your plot doesn't have a title.\"\n",
    ")\n",
    "assert_is_not(\n",
    "    your_model_cm.get_ylim(), (3.0,0),\n",
    "    msg=\"Your plot should be 3 by 3.\"\n",
    ")\n",
    "assert_is_not(\n",
    "    your_model_cm.get_xlim(), (3.0,0),\n",
    "    msg=\"Your plot should be 3 by 3.\"\n",
    ")\n"
   ]
  },
  {
   "cell_type": "code",
   "execution_count": null,
   "metadata": {
    "collapsed": true
   },
   "outputs": [],
   "source": []
  }
 ],
 "metadata": {
  "kernelspec": {
   "display_name": "Python 3",
   "language": "python",
   "name": "python3"
  },
  "language_info": {
   "codemirror_mode": {
    "name": "ipython",
    "version": 3
   },
   "file_extension": ".py",
   "mimetype": "text/x-python",
   "name": "python",
   "nbconvert_exporter": "python",
   "pygments_lexer": "ipython3",
   "version": "3.6.1"
  }
 },
 "nbformat": 4,
 "nbformat_minor": 2
}
