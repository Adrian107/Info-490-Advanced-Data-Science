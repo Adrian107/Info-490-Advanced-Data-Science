{
 "cells": [
  {
   "cell_type": "markdown",
   "metadata": {
    "deletable": false,
    "editable": false,
    "nbgrader": {
     "checksum": "382f5dc964b77edb5f3d348af85365e7",
     "grade": false,
     "grade_id": "header",
     "locked": true,
     "schema_version": 1,
     "solution": false
    }
   },
   "source": [
    "# Week 9 Problem 3\n",
    "\n",
    "A few things you should keep in mind when working on assignments:\n",
    "\n",
    "1. Make sure you fill in any place that says `YOUR CODE HERE`. Do not write your answer in anywhere else other than where it says `YOUR CODE HERE`. Anything you write anywhere else will be removed or overwritten by the autograder.\n",
    "\n",
    "2. Before you submit your assignment, make sure everything runs as expected. Go to menubar, select *Kernel*, and restart the kernel and run all cells (*Restart & Run all*).\n",
    "\n",
    "3. Do not change the title (i.e. file name) of this notebook.\n",
    "\n",
    "4. Make sure that you save your work (in the menubar, select *File* → *Save and CheckPoint*)\n",
    "\n",
    "5. When you are ready to submit your assignment, go to *Dashboard* → *Assignments* and click the *Submit* button. Your work is not submitted until you click *Submit*.\n",
    "\n",
    "6. You are allowed to submit an assignment multiple times, but only the most recent submission will be graded.\n",
    "\n",
    "7. **If your code does not pass the unit tests, it will not pass the autograder.**"
   ]
  },
  {
   "cell_type": "markdown",
   "metadata": {
    "deletable": false,
    "editable": false,
    "nbgrader": {
     "checksum": "efd659cf54b4cfe8f7798cbaf1ceab88",
     "grade": false,
     "grade_id": "cell-f2a8814b67759c3a",
     "locked": true,
     "schema_version": 1,
     "solution": false
    }
   },
   "source": [
    "## Author: John Nguyen\n",
    "### Primary Reviewer: Radhir Kothuri"
   ]
  },
  {
   "cell_type": "markdown",
   "metadata": {
    "deletable": false,
    "editable": false,
    "nbgrader": {
     "checksum": "f85750f7fb93abf0d0482fc9c296d010",
     "grade": false,
     "grade_id": "due_date",
     "locked": true,
     "schema_version": 1,
     "solution": false
    }
   },
   "source": [
    "# Due Date: 6 PM, March 26, 2018"
   ]
  },
  {
   "cell_type": "code",
   "execution_count": 1,
   "metadata": {
    "deletable": false,
    "editable": false,
    "nbgrader": {
     "checksum": "a12988cc354551d0bb4da718dec7e41d",
     "grade": false,
     "grade_id": "import_nose",
     "locked": true,
     "schema_version": 1,
     "solution": false
    }
   },
   "outputs": [
    {
     "name": "stdout",
     "output_type": "stream",
     "text": [
      "[nltk_data] Downloading package stopwords to\n",
      "[nltk_data]     /home/data_scientist/nltk_data...\n",
      "[nltk_data]   Unzipping corpora/stopwords.zip.\n",
      "[nltk_data] Downloading package inaugural to\n",
      "[nltk_data]     /home/data_scientist/nltk_data...\n",
      "[nltk_data]   Unzipping corpora/inaugural.zip.\n"
     ]
    }
   ],
   "source": [
    "import numpy as np\n",
    "import string\n",
    "import collections\n",
    "from scipy.sparse import csr_matrix\n",
    "import matplotlib.pyplot as plt\n",
    "from sklearn.pipeline import Pipeline\n",
    "from nltk.corpus import stopwords\n",
    "from nltk.corpus import inaugural\n",
    "from sklearn.feature_extraction.text import TfidfVectorizer\n",
    "from sklearn.cluster import KMeans\n",
    "import nltk\n",
    "from nltk.stem.snowball import SnowballStemmer\n",
    "from sklearn.manifold import TSNE\n",
    "\n",
    "from nose.tools import (\n",
    "    assert_equal,\n",
    "    assert_is_instance,\n",
    "    assert_almost_equal,\n",
    "    assert_true\n",
    ")\n",
    "from numpy.testing import assert_array_equal\n",
    "\n",
    "# Download the stopwords\n",
    "nltk.download('stopwords');\n",
    "\n",
    "# Download inaugural address\n",
    "nltk.download('inaugural');"
   ]
  },
  {
   "cell_type": "markdown",
   "metadata": {
    "deletable": false,
    "editable": false,
    "nbgrader": {
     "checksum": "645fc9a628ec30335a2ad4390dd69e6d",
     "grade": false,
     "grade_id": "cell-55f5152c9112ef90",
     "locked": true,
     "schema_version": 1,
     "solution": false
    }
   },
   "source": [
    "We will analyze the NLTK Inaugural Address Corpus which contains a collection of 55 texts, one for each presidential address starting from 1789. Please refer to the [Inaugural Address Corpus documentation](http://www.nltk.org/book/ch02.html#inaugural-corpus) for more information. By the end of the assignment, our goal is to answer the following question: __Which inaugural addresses were most closely related?__ That is, we will use text mining in order to group similar inaugural addresses."
   ]
  },
  {
   "cell_type": "code",
   "execution_count": 2,
   "metadata": {
    "deletable": false,
    "editable": false,
    "nbgrader": {
     "checksum": "2f6ea3068b429d5c8bf2c2e936880bb1",
     "grade": false,
     "grade_id": "cell-c605871f65f61a12",
     "locked": true,
     "schema_version": 1,
     "solution": false
    }
   },
   "outputs": [
    {
     "name": "stdout",
     "output_type": "stream",
     "text": [
      "56\n",
      "['1789-Washington.txt', '1793-Washington.txt', '1797-Adams.txt', '1801-Jefferson.txt', '1805-Jefferson.txt', '1809-Madison.txt', '1813-Madison.txt', '1817-Monroe.txt', '1821-Monroe.txt', '1825-Adams.txt', '1829-Jackson.txt', '1833-Jackson.txt', '1837-VanBuren.txt', '1841-Harrison.txt', '1845-Polk.txt', '1849-Taylor.txt', '1853-Pierce.txt', '1857-Buchanan.txt', '1861-Lincoln.txt', '1865-Lincoln.txt', '1869-Grant.txt', '1873-Grant.txt', '1877-Hayes.txt', '1881-Garfield.txt', '1885-Cleveland.txt', '1889-Harrison.txt', '1893-Cleveland.txt', '1897-McKinley.txt', '1901-McKinley.txt', '1905-Roosevelt.txt', '1909-Taft.txt', '1913-Wilson.txt', '1917-Wilson.txt', '1921-Harding.txt', '1925-Coolidge.txt', '1929-Hoover.txt', '1933-Roosevelt.txt', '1937-Roosevelt.txt', '1941-Roosevelt.txt', '1945-Roosevelt.txt', '1949-Truman.txt', '1953-Eisenhower.txt', '1957-Eisenhower.txt', '1961-Kennedy.txt', '1965-Johnson.txt', '1969-Nixon.txt', '1973-Nixon.txt', '1977-Carter.txt', '1981-Reagan.txt', '1985-Reagan.txt', '1989-Bush.txt', '1993-Clinton.txt', '1997-Clinton.txt', '2001-Bush.txt', '2005-Bush.txt', '2009-Obama.txt']\n"
     ]
    }
   ],
   "source": [
    "# Load in the corpus\n",
    "from nltk.corpus import inaugural\n",
    "\n",
    "# View the number of files\n",
    "print(len(inaugural.fileids()))\n",
    "\n",
    "# View the list of files\n",
    "print(inaugural.fileids())"
   ]
  },
  {
   "cell_type": "code",
   "execution_count": 3,
   "metadata": {
    "deletable": false,
    "editable": false,
    "nbgrader": {
     "checksum": "ca45a6f2aac8d1a9d716e941a56d8f8b",
     "grade": false,
     "grade_id": "cell-f8a521e9bd1854eb",
     "locked": true,
     "schema_version": 1,
     "solution": false
    }
   },
   "outputs": [
    {
     "data": {
      "text/plain": [
       "'My fellow citizens:\\n\\nI stand here today humbled by the task before us, grateful for the trust you have bestowed, mindful of the sacrifices borne by our ancestors. I thank President Bush for his service to our nation, as well as the generosity and cooperation he has shown throughout this transition.\\n\\nForty-four Americans have now taken the presidential oath. The words have been spoken during rising tides of prosperity and the still waters of peace. Yet, every so often the oath is taken amidst gathering clouds and raging storms. At these moments, America has carried on not simply because of the skill or vision of those in high office, but because We the People have remained faithful to the ideals of our forbearers, and true to our founding documents.\\n\\nSo it has been. So it must be with this generation of Americans.\\n\\nThat we are in the midst of crisis is now well understood. Our nation is at war, against a far-reaching network of violence and hatred. Our economy is badly weakened, a consequence of greed and irresponsibility on the part of some, but also our collective failure to make hard choices and prepare the nation for a new age. Homes have been lost; jobs shed; businesses shuttered. Our health care is too costly; our schools fail too many; and each day brings further evidence that the ways we use energy strengthen our adversaries and threaten our planet.\\n\\nThese are the indicators of crisis, subject to data and statistics. Less measurable but no less profound is a sapping of confidence across our land -- a nagging fear that America\\'s decline is inevitable, that the next generation must lower its sights.\\n\\nToday I say to you that the challenges we face are real. They are serious and they are many. They will not be met easily or in a short span of time. But know this, America -- they will be met.\\n\\nOn this day, we gather because we have chosen hope over fear, unity of purpose over conflict and discord.\\n\\nOn this day, we come to proclaim an end to the petty grievances and false promises, the recriminations and worn-out dogmas that for far too long have strangled our politics.\\n\\nWe remain a young nation, but in the words of Scripture, the time has come to set aside childish things. The time has come to reaffirm our enduring spirit; to choose our better history; to carry forward that precious gift, that noble idea, passed on from generation to generation: the God-given promise that all are equal, all are free, and all deserve a chance to pursue their full measure of happiness.\\n\\nIn reaffirming the greatness of our nation, we understand that greatness is never a given. It must be earned. Our journey has never been one of shortcuts or settling for less. It has not been the path for the faint-hearted -- for those who prefer leisure over work, or seek only the pleasures of riches and fame. Rather, it has been the risk-takers, the doers, the makers of things\\'some celebrated but more often men and women obscure in their labor, who have carried us up the long, rugged path towards prosperity and freedom.\\n\\nFor us, they packed up their few worldly possessions and traveled across oceans in search of a new life.\\n\\nFor us, they toiled in sweatshops and settled the West; endured the lash of the whip and plowed the hard earth.\\n\\nFor us, they fought and died, in places like Concord and Gettysburg; Normandy and Khe Sahn.\\n\\nTime and again these men and women struggled and sacrificed and worked till their hands were raw so that we might live a better life. They saw America as bigger than the sum of our individual ambitions; greater than all the differences of birth or wealth or faction.\\n\\nThis is the journey we continue today. We remain the most prosperous, powerful nation on Earth. Our workers are no less productive than when this crisis began. Our minds are no less inventive, our goods and services no less needed than they were last week or last month or last year. Our capacity remains undiminished. But our time of standing pat, of protecting narrow interests and putting off unpleasant decisions -- that time has surely passed. Starting today, we must pick ourselves up, dust ourselves off, and begin again the work of remaking America.\\n\\nFor everywhere we look, there is work to be done. The state of our economy calls for action, bold and swift, and we will act -- not only to create new jobs, but to lay a new foundation for growth. We will build the roads and bridges, the electric grids and digital lines that feed our commerce and bind us together. We will restore science to its rightful place, and wield technology\\'s wonders to raise health care\\'s quality and lower its cost. We will harness the sun and the winds and the soil to fuel our cars and run our factories. And we will transform our schools and colleges and universities to meet the demands of a new age. All this we can do. All this we will do.\\n\\nNow, there are some who question the scale of our ambitions -- who suggest that our system cannot tolerate too many big plans. Their memories are short. For they have forgotten what this country has already done; what free men and women can achieve when imagination is joined to common purpose, and necessity to courage.\\n\\nWhat the cynics fail to understand is that the ground has shifted beneath them -- that the stale political arguments that have consumed us for so long no longer apply. The question we ask today is not whether our government is too big or too small, but whether it works -- whether it helps families find jobs at a decent wage, care they can afford, a retirement that is dignified. Where the answer is yes, we intend to move forward. Where the answer is no, programs will end. And those of us who manage the public\\'s dollars will be held to account -- to spend wisely, reform bad habits, and do our business in the light of day -- because only then can we restore the vital trust between a people and their government.\\n\\nNor is the question before us whether the market is a force for good or ill. Its power to generate wealth and expand freedom is unmatched, but this crisis has reminded us that without a watchful eye, the market can spin out of control -- the nation cannot prosper long when it favors only the prosperous. The success of our economy has always depended not just on the size of our Gross Domestic Product, but on the reach of our prosperity; on the ability to extend opportunity to every willing heart -- not out of charity, but because it is the surest route to our common good.\\n\\nAs for our common defense, we reject as false the choice between our safety and our ideals. Our Founding Fathers, faced with perils that we can scarcely imagine, drafted a charter to assure the rule of law and the rights of man, a charter expanded by the blood of generations. Those ideals still light the world, and we will not give them up for expedience\\'s sake. And so to all the other peoples and governments who are watching today, from the grandest capitals to the small village where my father was born: know that America is a friend of each nation and every man, woman, and child who seeks a future of peace and dignity, and we are ready to lead once more.\\n\\nRecall that earlier generations faced down fascism and communism not just with missiles and tanks, but with the sturdy alliances and enduring convictions. They understood that our power alone cannot protect us, nor does it entitle us to do as we please. Instead, they knew that our power grows through its prudent use; our security emanates from the justness of our cause, the force of our example, the tempering qualities of humility and restraint.\\n\\nWe are the keepers of this legacy. Guided by these principles once more, we can meet those new threats that demand even greater effort -- even greater cooperation and understanding between nations. We will begin to responsibly leave Iraq to its people, and forge a hard-earned peace in Afghanistan. With old friends and former foes, we will work tirelessly to lessen the nuclear threat, and roll back the specter of a warming planet. We will not apologize for our way of life, nor will we waver in its defense, and for those who seek to advance their aims by inducing terror and slaughtering innocents, we say to you now that our spirit is stronger and cannot be broken; you cannot outlast us, and we will defeat you.\\n\\nFor we know that our patchwork heritage is a strength, not a weakness. We are a nation of Christians and Muslims, Jews and Hindus -- and non-believers. We are shaped by every language and culture, drawn from every end of this Earth; and because we have tasted the bitter swill of civil war and segregation, and emerged from that dark chapter stronger and more united, we cannot help but believe that the old hatreds shall someday pass; that the lines of tribe shall soon dissolve; that as the world grows smaller, our common humanity shall reveal itself; and that America must play its role in ushering in a new era of peace.\\n\\nTo the Muslim world, we seek a new way forward, based on mutual interest and mutual respect. To those leaders around the globe who seek to sow conflict, or blame their society\\'s ills on the West -- know that your people will judge you on what you can build, not what you destroy. To those who cling to power through corruption and deceit and the silencing of dissent, know that you are on the wrong side of history; but that we will extend a hand if you are willing to unclench your fist.\\n\\nTo the people of poor nations, we pledge to work alongside you to make your farms flourish and let clean waters flow; to nourish starved bodies and feed hungry minds. And to those nations like ours that enjoy relative plenty, we say we can no longer afford indifference to the suffering outside our borders; nor can we consume the world\\'s resources without regard to effect. For the world has changed, and we must change with it.\\n\\nAs we consider the road that unfolds before us, we remember with humble gratitude those brave Americans who, at this very hour, patrol far-off deserts and distant mountains. They have something to tell us, just as the fallen heroes who lie in Arlington whisper through the ages. We honor them not only because they are the guardians of our liberty, but because they embody the spirit of service; a willingness to find meaning in something greater than themselves. And yet, at this moment -- a moment that will define a generation -- it is precisely this spirit that must inhabit us all.\\n\\nFor as much as government can do and must do, it is ultimately the faith and determination of the American people upon which this nation relies. It is the kindness to take in a stranger when the levees break, the selflessness of workers who would rather cut their hours than see a friend lose their job which sees us through our darkest hours. It is the firefighter\\'s courage to storm a stairway filled with smoke, but also a parent\\'s willingness to nurture a child, that finally decides our fate.\\n\\n Our challenges may be new. The instruments with which we meet them may be new. But those values upon which our success depends -- honesty and hard work, courage and fair play, tolerance and curiosity, loyalty and patriotism -- these things are old. These things are true. They have been the quiet force of progress throughout our history. What is demanded then is a return to these truths. What is required of us now is a new era of responsibility -- a recognition, on the part of every American, that we have duties to ourselves, our nation, and the world, duties that we do not grudgingly accept but rather seize gladly, firm in the knowledge that there is nothing so satisfying to the spirit, so defining of our character, than giving our all to a difficult task.\\n\\nThis is the price and the promise of citizenship.\\n\\nThis is the source of our confidence -- the knowledge that God calls on us to shape an uncertain destiny.\\n\\nThis is the meaning of our liberty and our creed -- why men and women and children of every race and every faith can join in celebration across this magnificent mall, and why a man whose father less than sixty years ago might not have been served at a local restaurant can now stand before you to take a most sacred oath.\\n\\nSo let us mark this day with remembrance, of who we are and how far we have traveled. In the year of America\\'s birth, in the coldest of months, a small band of patriots huddled by dying campfires on the shores of an icy river. The capital was abandoned. The enemy was advancing. The snow was stained with blood. At a moment when the outcome of our revolution was most in doubt, the father of our nation ordered these words be read to the people:\\n\\n\"Let it be told to the future world ... that in the depth of winter, when nothing but hope and virtue could survive ... that the city and the country, alarmed at one common danger, came forth to meet ... it.\"\\n\\nAmerica! In the face of our common dangers, in this winter of our hardship, let us remember these timeless words. With hope and virtue, let us brave once more the icy currents, and endure what storms may come. Let it be said by our children\\'s children that when we were tested we refused to let this journey end, that we did not turn back nor did we falter; and with eyes fixed on the horizon and God\\'s grace upon us, we carried forth that great gift of freedom and delivered it safely to future generations.\\n\\nThank you. God bless you. And God bless the United States of America.  \\n'"
      ]
     },
     "execution_count": 3,
     "metadata": {},
     "output_type": "execute_result"
    }
   ],
   "source": [
    "# View Obama's first inauguration address\n",
    "inaugural.raw('2009-Obama.txt')"
   ]
  },
  {
   "cell_type": "code",
   "execution_count": 4,
   "metadata": {
    "collapsed": true
   },
   "outputs": [],
   "source": [
    "# Create the documents for analysis\n",
    "documents = []\n",
    "for doc in inaugural.fileids():\n",
    "    documents.append(inaugural.raw(doc))"
   ]
  },
  {
   "cell_type": "markdown",
   "metadata": {
    "collapsed": true,
    "deletable": false,
    "editable": false,
    "nbgrader": {
     "checksum": "dda70e0207e5c462fdd1e6641a4ddfb2",
     "grade": false,
     "grade_id": "prob1",
     "locked": true,
     "schema_version": 1,
     "solution": false
    }
   },
   "source": [
    "## Question 1: Tokenizing\n",
    " \n",
    "Create the function <i>process_text()</i> which tokenize an inputted string. Your function should remove  punctuations and apply stemming via the [Snowball Stemmer](http://www.nltk.org/howto/stem.html) with 'english' as the language. Your function should return the tokens as a map object.\n",
    "\n",
    "__Hint:__ Refer to this week's notebook on creating the tokenizer."
   ]
  },
  {
   "cell_type": "code",
   "execution_count": 11,
   "metadata": {
    "collapsed": true,
    "deletable": false,
    "nbgrader": {
     "checksum": "fd579308337dbc792f9ed92135a10a62",
     "grade": false,
     "grade_id": "prob1_answer",
     "locked": false,
     "schema_version": 1,
     "solution": true
    }
   },
   "outputs": [],
   "source": [
    "def process_text(text):\n",
    "    '''\n",
    "    Converts text into tokens. Remove punctuation and use the Snowball Stemmer.\n",
    "    \n",
    "    Parameters\n",
    "    ----------\n",
    "    text: a string.\n",
    "    \n",
    "    Returns\n",
    "    -------\n",
    "    tokens: a map object.    \n",
    "    '''\n",
    "\n",
    "    # YOUR CODE HERE\n",
    "    # Define function to tokenize text and apply stemmer\n",
    "   \n",
    "    tokens = nltk.word_tokenize(text)\n",
    "    tokens = [token for token in tokens if token not in string.punctuation]\n",
    "        \n",
    "    stemmer = SnowballStemmer(language='english')\n",
    "    tokens = map(stemmer.stem, tokens)\n",
    "    \n",
    "    \n",
    "\n",
    "\n",
    "    \n",
    " \n",
    "    return tokens"
   ]
  },
  {
   "cell_type": "code",
   "execution_count": 12,
   "metadata": {
    "deletable": false,
    "editable": false,
    "nbgrader": {
     "checksum": "990c30f01caf47c48d3e73373e5fd838",
     "grade": true,
     "grade_id": "prob1_grade",
     "locked": true,
     "points": 10,
     "schema_version": 1,
     "solution": false
    }
   },
   "outputs": [],
   "source": [
    "test_sentence1 = \"This is a simple test sentence.\"\n",
    "test_tokens1 = process_text(test_sentence1)\n",
    "assert_equal(type(test_tokens1), map)\n",
    "assert_equal(list(test_tokens1), ['this', 'is', 'a', 'simpl', 'test', 'sentenc'])\n",
    "\n",
    "test_sentence2 = \"Text mining, also referred to as text data mining, roughly equivalent to text analytics, is the process of deriving high-quality information from text. High-quality information is typically derived through the devising of patterns and trends through means such as statistical pattern learning.\"\n",
    "test_tokens2 = process_text(test_sentence2)\n",
    "assert_equal(type(test_tokens2), map)\n",
    "assert_equal(list(test_tokens2), ['text', 'mine', 'also', 'refer', 'to', 'as', 'text', 'data', 'mine', 'rough',\n",
    "                                  'equival', 'to', 'text', 'analyt', 'is', 'the', 'process', 'of', 'deriv',\n",
    "                                  'high-qual', 'inform', 'from', 'text', 'high-qual', 'inform', 'is', 'typic',\n",
    "                                  'deriv', 'through', 'the', 'devis', 'of', 'pattern', 'and', 'trend', 'through',\n",
    "                                  'mean', 'such', 'as', 'statist', 'pattern', 'learn'])"
   ]
  },
  {
   "cell_type": "markdown",
   "metadata": {
    "collapsed": true,
    "deletable": false,
    "editable": false,
    "nbgrader": {
     "checksum": "140ad9f1338c57a173f8d4e93d06cf7f",
     "grade": false,
     "grade_id": "prob2",
     "locked": true,
     "schema_version": 1,
     "solution": false
    }
   },
   "source": [
    "## Question 2: TF-IDF\n",
    "\n",
    "Apply TF-IDF vectorization to the text document (e.g., an inaugural address). To pass all assertions, make sure you have the following:\n",
    "\n",
    "- Apply the tokenizer from Question 1\n",
    "- Use English stop words. For the <i>stop_words</i> parameter you need to pass a list. You may pass stopwords.words('english') which we've already loaded.\n",
    "- Set <i>min_df=3</i> to ignore terms with document frequency strictly lower than 3.\n",
    "- Set <i>max_df=0.5</i> ignore terms that have a document frequency strictly higher than 90%.\n",
    "- Set <i>max_features=2000</i>.\n",
    "- Use unigram and bigram.\n",
    "- Convert all characters to lowercase.\n",
    "- Fit the vectorizer to the text document using <i>fit_transform()</i> to return the term-document matrix.\n",
    "- Return the vectorizer object as well as the tf-idf matrix.\n",
    "\n",
    "__Note:__ Be sure to examine the [documentation](http://scikit-learn.org/stable/modules/generated/sklearn.feature_extraction.text.TfidfVectorizer.html) to learn about the parameters. For example, we can use absolute values or proportion as thresholds when setting the minimum and maximum thresholds."
   ]
  },
  {
   "cell_type": "code",
   "execution_count": 17,
   "metadata": {
    "collapsed": true,
    "deletable": false,
    "nbgrader": {
     "checksum": "7dd00f004d2da4286b132cc6e9728312",
     "grade": false,
     "grade_id": "prob2_answer",
     "locked": false,
     "schema_version": 1,
     "solution": true
    }
   },
   "outputs": [],
   "source": [
    "def apply_tfidf(docs):\n",
    "    '''\n",
    "    Transform text documents into tf-idf coordinates.\n",
    "    \n",
    "    Parameters\n",
    "    ----------\n",
    "    docs: A text document\n",
    "    \n",
    "    Returns\n",
    "    -------\n",
    "    vectorizer: a TfidfVectorizer object\n",
    "    tfidf_matrix: a scipy.csr_matrix object\n",
    "    '''\n",
    "    # YOUR CODE HERE\n",
    "    vectorizer = TfidfVectorizer(stop_words=stopwords.words('english'), min_df=3, max_df=0.5, \\\n",
    "                         max_features=2000, tokenizer=process_text, ngram_range=(1,2), lowercase=True)\n",
    "    tfidf_matrix = vectorizer.fit_transform(docs)\n",
    "    \n",
    "\n",
    "    return vectorizer, tfidf_matrix"
   ]
  },
  {
   "cell_type": "code",
   "execution_count": 18,
   "metadata": {
    "deletable": false,
    "editable": false,
    "nbgrader": {
     "checksum": "9179039ce23369b967bb17f3fd907004",
     "grade": true,
     "grade_id": "prob2_grade1",
     "locked": true,
     "points": 10,
     "schema_version": 1,
     "solution": false
    }
   },
   "outputs": [],
   "source": [
    "# Perform TD-IDF on All Documents\n",
    "documents_vectorizer, documents_tfidf = apply_tfidf(documents)\n",
    "\n",
    "# Make sure the vectorizer parameters are correct\n",
    "assert_equal(documents_vectorizer.max_df, 0.5)\n",
    "assert_equal(documents_vectorizer.min_df, 3)\n",
    "assert_equal(documents_vectorizer.max_features, 2000)\n",
    "assert_equal(documents_vectorizer.ngram_range, (1, 2))\n",
    "assert_equal(documents_vectorizer.lowercase, True)\n",
    "\n",
    "# Make sure the dimension of the matrix is correct\n",
    "assert_equal(documents_tfidf.shape, (56, 2000))\n",
    "\n",
    "# Make sure the objects returned are correct\n",
    "assert_equal(type(documents_vectorizer), TfidfVectorizer)\n",
    "assert_equal(type(documents_tfidf), csr_matrix)\n",
    "\n",
    "# Check parts of the matrix\n",
    "assert_almost_equal(documents_tfidf[0, 719], 0.0401962149395, 3)\n",
    "assert_almost_equal(documents_tfidf[55, 625], 0.0642302942599, 3)\n",
    "assert_almost_equal(documents_tfidf[0, 864], 0.0486540286637, 3)"
   ]
  },
  {
   "cell_type": "markdown",
   "metadata": {
    "deletable": false,
    "editable": false,
    "nbgrader": {
     "checksum": "f97771382d865c09f08cc2af78c7854e",
     "grade": false,
     "grade_id": "prob3",
     "locked": true,
     "schema_version": 1,
     "solution": false
    }
   },
   "source": [
    "## Question 3: Clustering\n",
    "\n",
    "We will apply K-means clustering to the tf-idf matrix. Create the function <i>cluster_texts()</i> which takes the tf-idf matrix from Question 2 as well as the number of clusters as input. The function will fit a KMeans model with the specific number of clusters to the tf-idf matrix and set the <i>random_state</i> to be 0. (note, keep all other parameters default). Output the fitted model."
   ]
  },
  {
   "cell_type": "code",
   "execution_count": 19,
   "metadata": {
    "collapsed": true,
    "deletable": false,
    "nbgrader": {
     "checksum": "001ba8b5c382ab11f2d83d5cf0a592f6",
     "grade": false,
     "grade_id": "prob3_answer",
     "locked": false,
     "schema_version": 1,
     "solution": true
    }
   },
   "outputs": [],
   "source": [
    "def cluster_texts(tfidf_matrix, num_clusters):\n",
    "    '''\n",
    "    Perform K-Means clustering\n",
    "    \n",
    "    Parameters\n",
    "    ----------\n",
    "    tfidf_model: a scipy.csr_matrix object representing the tf-idf matrix\n",
    "    num_clusters: a int specifying the number of clusters for K-Means\n",
    "    \n",
    "    Returns\n",
    "    -------\n",
    "    km_model: a KMeans object  \n",
    "    '''\n",
    "    # YOUR CODE HERE\n",
    "    km = KMeans(n_clusters=num_clusters, random_state=0)\n",
    "    km_model = km.fit(tfidf_matrix)\n",
    " \n",
    "    return km_model"
   ]
  },
  {
   "cell_type": "code",
   "execution_count": 20,
   "metadata": {
    "collapsed": true,
    "deletable": false,
    "editable": false,
    "nbgrader": {
     "checksum": "380aba1034392e30cc2c560d4434bc28",
     "grade": true,
     "grade_id": "prob3_grade",
     "locked": true,
     "points": 10,
     "schema_version": 1,
     "solution": false
    }
   },
   "outputs": [],
   "source": [
    "cluster_documents = cluster_texts(documents_tfidf, 3)\n",
    "assert_equal(type(cluster_documents), KMeans)\n",
    "assert_equal(cluster_documents.n_clusters, 3)\n",
    "assert_equal(cluster_documents.random_state, 0)\n",
    "assert_equal(list(cluster_documents.labels_), [0, 0, 0, 0, 0, 0, 0, 0, 2, 0, 0, 0,\n",
    "                                               0, 2, 0, 0, 0, 2, 2, 1, 2, 2, 2, 2,\n",
    "                                               2, 2, 2, 2, 2, 1, 2, 1, 2, 2, 2, 2,\n",
    "                                               2, 1, 1, 1, 2, 1, 1, 1, 1, 1, 1, 1,\n",
    "                                               1, 1, 1, 1, 1, 1, 1, 1])\n",
    "\n",
    "cluster_documents2 = cluster_texts(documents_tfidf, 5)\n",
    "assert_equal(type(cluster_documents2), KMeans)\n",
    "assert_equal(cluster_documents2.n_clusters, 5)\n",
    "assert_equal(cluster_documents2.random_state, 0)\n",
    "assert_equal(list(cluster_documents2.labels_), [3, 3, 3, 3, 3, 3, 3, 3, 3, 3, 3, 3, 3,\n",
    "                                                3, 3, 3, 3, 3, 3, 4, 3, 3, 3, 3, 3, 3,\n",
    "                                                3, 3, 3, 2, 3, 1, 1, 2, 2, 2, 2, 2, 2,\n",
    "                                                0, 2, 2, 0, 4, 0, 4, 4, 4, 4, 4, 4, 4,\n",
    "                                                4, 0, 0, 0])"
   ]
  },
  {
   "cell_type": "markdown",
   "metadata": {
    "deletable": false,
    "editable": false,
    "nbgrader": {
     "checksum": "3671cef1685c5cf84829f59c19c18205",
     "grade": false,
     "grade_id": "cell-fdtf0d53s072fe01",
     "locked": true,
     "schema_version": 1,
     "solution": false
    }
   },
   "source": [
    "## Results & Visualization\n",
    "\n",
    "So, which presidential inaugural address were most similar? Let us view the clustering results for 3 clusters. Notice how the addresses are grouped based on the time period (e.g., the early addresses have the same label)."
   ]
  },
  {
   "cell_type": "code",
   "execution_count": 21,
   "metadata": {},
   "outputs": [
    {
     "data": {
      "text/plain": [
       "array([0, 0, 0, 0, 0, 0, 0, 0, 2, 0, 0, 0, 0, 2, 0, 0, 0, 2, 2, 1, 2, 2, 2,\n",
       "       2, 2, 2, 2, 2, 2, 1, 2, 1, 2, 2, 2, 2, 2, 1, 1, 1, 2, 1, 1, 1, 1, 1,\n",
       "       1, 1, 1, 1, 1, 1, 1, 1, 1, 1], dtype=int32)"
      ]
     },
     "execution_count": 21,
     "metadata": {},
     "output_type": "execute_result"
    }
   ],
   "source": [
    "cluster_documents.labels_"
   ]
  },
  {
   "cell_type": "markdown",
   "metadata": {
    "deletable": false,
    "editable": false,
    "nbgrader": {
     "checksum": "e9b600f21fc547828886ece8b816fc9c",
     "grade": false,
     "grade_id": "cell-cdff0d545072fe01",
     "locked": true,
     "schema_version": 1,
     "solution": false
    }
   },
   "source": [
    "Below we show the top 20 tokens for the clusters. Notice the different in terms between the clusters indicating the time period certain issues might be at the forefront (e.g., `women` in Cluster 1 and `race` in Cluster 2)."
   ]
  },
  {
   "cell_type": "code",
   "execution_count": 22,
   "metadata": {
    "deletable": false,
    "editable": false,
    "nbgrader": {
     "checksum": "f0dd1abe3bd142733583abbd118c6e42",
     "grade": false,
     "grade_id": "cell-4dbefa900894b367",
     "locked": true,
     "schema_version": 1,
     "solution": false
    }
   },
   "outputs": [
    {
     "name": "stdout",
     "output_type": "stream",
     "text": [
      "Top 30 Tokens Per Clusters:\n",
      "\n",
      "Cluster 0: opinion feder improv exampl revenu distinguish reason proper endeavor promot exercis period liber circumst militari dure sentiment general govern extend shall endeavor regard discharg render republ depart function gratitud foreign nation commerc conduct\n",
      "\n",
      "Cluster 1: today let us democraci help togeth centuri generat children earth ideal dream america 's challeng word promis women build friend learn mr. go problem achiev begin face men women strive million stori renew\n",
      "\n",
      "Cluster 2: congress busi enforc legisl revenu territori trade relat promot influenc thought ought method republ elect desir econom increas intern proper section restor amend feder product countrymen citizenship accept depart race\n",
      "\n"
     ]
    }
   ],
   "source": [
    "# Helper function to view the clustering results\n",
    "def top_30_tokens_clusters(km_model, vectorizer, num_clusters):\n",
    "    print('Top 30 Tokens Per Clusters:\\n')\n",
    "    order_centroids = km_model.cluster_centers_.argsort()[:, ::-1]\n",
    "    terms = vectorizer.get_feature_names()\n",
    "\n",
    "    for idx in range(num_clusters):\n",
    "        print(\"Cluster {0}:\".format(idx), end='')\n",
    "        for jdx in order_centroids[idx, :30]:\n",
    "            print(' {0}'.format(terms[jdx]), end='')\n",
    "        print('\\n')\n",
    "\n",
    "top_30_tokens_clusters(cluster_documents, documents_vectorizer, 3)"
   ]
  },
  {
   "cell_type": "markdown",
   "metadata": {
    "deletable": false,
    "editable": false,
    "nbgrader": {
     "checksum": "9398baa0aafad45387909e5a8f0144af",
     "grade": false,
     "grade_id": "cell-8c837e05bb9a4bbd",
     "locked": true,
     "schema_version": 1,
     "solution": false
    }
   },
   "source": [
    "Finally, let us visualize our results. We will employ PCA for dimensionality reduction and plot the first two components. What can you draw from the plot? Notice how Lincoln's address are very far from the others, perhaps due to the Civil War."
   ]
  },
  {
   "cell_type": "code",
   "execution_count": 23,
   "metadata": {
    "deletable": false,
    "editable": false,
    "nbgrader": {
     "checksum": "d6c07e1ff57bf86b6e85bc013832a13a",
     "grade": false,
     "grade_id": "cell-0b6714c17879b953",
     "locked": true,
     "schema_version": 1,
     "solution": false
    }
   },
   "outputs": [
    {
     "data": {
      "image/png": "[encoded data removed]",
      "text/plain": [
       "<matplotlib.figure.Figure at 0x7f1f203ea438>"
      ]
     },
     "metadata": {},
     "output_type": "display_data"
    }
   ],
   "source": [
    "from sklearn.decomposition import PCA\n",
    "\n",
    "pca = PCA(n_components=2).fit(documents_tfidf.todense())\n",
    "data2D = pca.transform(documents_tfidf.todense())\n",
    "\n",
    "fig, ax = plt.subplots(figsize=(10, 10))\n",
    "ax.scatter(data2D[:,0], data2D[:,1])\n",
    "ax.title.set_text('TF-IDF PCA')\n",
    "ax.set_xlabel('1st Component')\n",
    "ax.set_ylabel('2nd Component')\n",
    "for i, txt in enumerate(inaugural.fileids()):\n",
    "    ax.annotate(txt.replace('.txt',''), (data2D[i,0], data2D[i,1]))\n",
    "plt.show()"
   ]
  },
  {
   "cell_type": "code",
   "execution_count": null,
   "metadata": {
    "collapsed": true
   },
   "outputs": [],
   "source": []
  }
 ],
 "metadata": {
  "kernelspec": {
   "display_name": "Python 3",
   "language": "python",
   "name": "python3"
  },
  "language_info": {
   "codemirror_mode": {
    "name": "ipython",
    "version": 3
   },
   "file_extension": ".py",
   "mimetype": "text/x-python",
   "name": "python",
   "nbconvert_exporter": "python",
   "pygments_lexer": "ipython3",
   "version": "3.6.1"
  }
 },
 "nbformat": 4,
 "nbformat_minor": 2
}
